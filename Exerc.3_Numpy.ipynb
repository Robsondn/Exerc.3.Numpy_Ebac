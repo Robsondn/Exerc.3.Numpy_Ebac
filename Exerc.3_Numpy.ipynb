{
 "cells": [
  {
   "cell_type": "code",
   "execution_count": 1,
   "id": "c70fcb11-e4db-43cc-8e37-5157af403aea",
   "metadata": {},
   "outputs": [],
   "source": [
    "# Importa a biblioteca numpy e a atribui ao alias 'np'\n",
    "import numpy as np "
   ]
  },
  {
   "cell_type": "code",
   "execution_count": 5,
   "id": "d8c57dea-439f-44c1-a2df-ce579eba9618",
   "metadata": {},
   "outputs": [],
   "source": [
    "# Criado um ndarray chamado altura_em_centimetros transformando a lista lista_de_alturas em um ndarray do numpy com a função np.array()\n",
    "# Transformado em outro objeto altura_em_metros, com os valores de altura_em_centimetros convertidos para metros.\n",
    "\n",
    "lista_de_centimetros = list(range(170, 190, 5))\n",
    "altura_em_centimetros = np.array(lista_de_centimetros)\n",
    "altura_em_metros = altura_em_centimetros / 100\n"
   ]
  },
  {
   "cell_type": "code",
   "execution_count": 6,
   "id": "a771d965-7c9b-4e57-aea5-49a30072ec51",
   "metadata": {},
   "outputs": [
    {
     "name": "stdout",
     "output_type": "stream",
     "text": [
      "[24.22145329 24.48979592 24.69135802 24.83564646]\n"
     ]
    }
   ],
   "source": [
    "# Lista de alturas em centímetros\n",
    "lista_de_alturas_cm = list(range(170, 190, 5)) \n",
    "\n",
    "# Convertendo para ndarray\n",
    "alturas_em_centimetros = np.array(lista_de_alturas_cm)  \n",
    "\n",
    "# Convertendo para metros\n",
    "alturas_em_metros = alturas_em_centimetros / 100  \n",
    "\n",
    "# Lista de pesos em Kg\n",
    "lista_pesos = [70, 75, 80, 85]\n",
    "\n",
    "# Convertendo para ndarray\n",
    "pesos = np.array(lista_pesos)  \n",
    "\n",
    "# Calculando o IMC\n",
    "imc = pesos / (alturas_em_metros ** 2)  \n",
    "\n",
    "print(imc)"
   ]
  },
  {
   "cell_type": "code",
   "execution_count": 7,
   "id": "2f7b41b6-07b7-4e77-bda8-2836c226ca79",
   "metadata": {},
   "outputs": [
    {
     "name": "stdout",
     "output_type": "stream",
     "text": [
      "Segunda linha: [2500 2500 5500]\n",
      "Segunda coluna: [1000 2500 3000 5000]\n",
      "Endividamento total: [ 4000  5000  4000 15000]\n"
     ]
    }
   ],
   "source": [
    "# Dados financeiros: custo fixo, dívida financeira, renda familiar\n",
    "dados_financeiros = [[3000, 2500, 1000, 10000], [1000, 2500, 3000, 5000], [6000, 5500, 7000, 16000]]\n",
    "\n",
    "# 1). Transforma a lista de listas em ndarray\n",
    "nd_financeiros = np.array(dados_financeiros)\n",
    "\n",
    "# 2). Transpõe o array para ter uma linha por indivíduo e uma coluna por informação\n",
    "nd_financeiros = nd_financeiros.transpose()\n",
    "\n",
    "# Imprime a segunda linha (dados do segundo indivíduo)\n",
    "print(\"Segunda linha:\", nd_financeiros[1])  \n",
    "\n",
    "# Imprime a segunda coluna (dívida financeira de todos os indivíduos)\n",
    "print(\"Segunda coluna:\", nd_financeiros[:, 1])  \n",
    "\n",
    "# 3). Calcula o endividamento total\n",
    "endividamento_total = nd_financeiros[:, 0] + nd_financeiros[:, 1]  # custo fixo + dívida financeira\n",
    "\n",
    "print(\"Endividamento total:\", endividamento_total)"
   ]
  },
  {
   "cell_type": "code",
   "execution_count": 8,
   "id": "af70040a-cd44-4a70-952e-9000d12db734",
   "metadata": {},
   "outputs": [
    {
     "name": "stdout",
     "output_type": "stream",
     "text": [
      "ndarray:\n",
      " [[ 3000  1000  6000]\n",
      " [ 2500  2500  5500]\n",
      " [ 1200  3000  7000]\n",
      " [10000  5000 16000]]\n",
      "\n",
      "Endividamento total: [ 4000  5000  4000 15000]\n"
     ]
    }
   ],
   "source": [
    "# Lista dados_financeiros\n",
    "dados_financeiros = [[3000, 2500, 1000, 10000], [1000, 2500, 3000, 5000], [6000, 5500, 7000, 16000]]\n",
    "\n",
    "# 1) Transforma a lista em um ndarray\n",
    "nd_financeiros = np.array(dados_financeiros)\n",
    "\n",
    "# 2) Transpõe o array (opcional, dependendo de como você quer organizar os dados)\n",
    "nd_financeiros = nd_financeiros.transpose() \n",
    "\n",
    "# 3) Calcula o endividamento total (custo fixo + dívida financeira)\n",
    "endividamento_total = nd_financeiros[:, 0] + nd_financeiros[:, 1] \n",
    "\n",
    "# 4) Corrigindo um valor específico (exemplo: corrigindo o custo fixo do 3º indivíduo para 1200)\n",
    "nd_financeiros[2, 0] = 1200  \n",
    "\n",
    "# Imprimindo os resultados\n",
    "print(\"ndarray:\\n\", nd_financeiros)\n",
    "print(\"\\nEndividamento total:\", endividamento_total)"
   ]
  },
  {
   "cell_type": "code",
   "execution_count": 9,
   "id": "7e33bf28-522c-4cca-ade9-560f78212fdb",
   "metadata": {},
   "outputs": [
    {
     "name": "stdout",
     "output_type": "stream",
     "text": [
      "Quantidade de zeros: 6\n",
      "poi original: [3 3 6 2 4 5 4 4 2 0 3 3 2 8 2 3 3 3 0 4 4 2 6 6 0 3 4 3 5 2 1 3 2 2 3 2 4\n",
      " 4 5 7 3 5 3 3 2 2 3 6 2 2 4 3 5 2 5 3 0 2 1 1 4 4 4 6 2 4 1 2 5 5 3 4 1 4\n",
      " 1 1 7 1 2 1 3 7 0 4 4 0 6 1 3 4 2 5 4 5 5 3 4 6 8 2]\n",
      "poi_nao_zero: [3 3 6 2 4 5 4 4 2 3 3 2 8 2 3 3 3 4 4 2 6 6 3 4 3 5 2 1 3 2 2 3 2 4 4 5 7\n",
      " 3 5 3 3 2 2 3 6 2 2 4 3 5 2 5 3 2 1 1 4 4 4 6 2 4 1 2 5 5 3 4 1 4 1 1 7 1\n",
      " 2 1 3 7 4 4 6 1 3 4 2 5 4 5 5 3 4 6 8 2]\n"
     ]
    }
   ],
   "source": [
    "# Definindo a semente para garantir resultados reproduzíveis\n",
    "np.random.seed(1234)\n",
    "# Gera o array poi\n",
    "poi = np.random.poisson(3, 100)\n",
    "\n",
    "# 1) Cria o objeto bool_zero\n",
    "bool_zero = poi == 0  # Compara cada elemento de 'poi' com zero\n",
    "\n",
    "# 2) Conta quantos valores zero existem\n",
    "qtd_zeros = np.sum(bool_zero)  # Soma os valores True (1) no array bool_zero\n",
    "print(f\"Quantidade de zeros: {qtd_zeros}\")\n",
    "\n",
    "# 3) Cria a variável poi_nao_zero com indexação booleana\n",
    "poi_nao_zero = poi[~bool_zero]  # Usa ~ para inverter o array bool_zero\n",
    "# Alternativa: poi_nao_zero = poi[poi != 0]  # Seleciona elementos diretamente diferentes de zero\n",
    "\n",
    "print(\"poi original:\", poi)\n",
    "print(\"poi_nao_zero:\", poi_nao_zero)"
   ]
  }
 ],
 "metadata": {
  "kernelspec": {
   "display_name": "Python 3 (ipykernel)",
   "language": "python",
   "name": "python3"
  },
  "language_info": {
   "codemirror_mode": {
    "name": "ipython",
    "version": 3
   },
   "file_extension": ".py",
   "mimetype": "text/x-python",
   "name": "python",
   "nbconvert_exporter": "python",
   "pygments_lexer": "ipython3",
   "version": "3.12.4"
  }
 },
 "nbformat": 4,
 "nbformat_minor": 5
}
